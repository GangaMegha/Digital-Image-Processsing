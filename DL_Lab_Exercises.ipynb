{
  "nbformat": 4,
  "nbformat_minor": 0,
  "metadata": {
    "colab": {
      "name": "DL_Lab_Exercises.ipynb",
      "provenance": [],
      "collapsed_sections": [
        "kBSX7VY10uvp"
      ],
      "include_colab_link": true
    },
    "kernelspec": {
      "name": "python3",
      "display_name": "Python 3"
    }
  },
  "cells": [
    {
      "cell_type": "markdown",
      "metadata": {
        "id": "view-in-github",
        "colab_type": "text"
      },
      "source": [
        "<a href=\"https://colab.research.google.com/github/GangaMegha/Digital-Image-Processsing/blob/main/DL_Lab_Exercises.ipynb\" target=\"_parent\"><img src=\"https://colab.research.google.com/assets/colab-badge.svg\" alt=\"Open In Colab\"/></a>"
      ]
    },
    {
      "metadata": {
        "id": "kLTpDVQk0ozE"
      },
      "cell_type": "markdown",
      "source": [
        "# ECE 637 Deep Learning Lab Exercises\n"
      ]
    },
    {
      "metadata": {
        "id": "FsD730rXywMj"
      },
      "cell_type": "markdown",
      "source": [
        "Name: Ganga Meghanath\n",
        "\n",
        "Uploaded to : https://github.com/GangaMegha/Digital-Image-Processsing/blob/main/DL_Lab_Exercises.ipynb"
      ]
    },
    {
      "metadata": {
        "id": "q8lAlbvv1d2e"
      },
      "cell_type": "markdown",
      "source": [
        "# Section 1"
      ]
    },
    {
      "metadata": {
        "id": "JqJeDZYM1LbR"
      },
      "cell_type": "markdown",
      "source": [
        "## Exercise 1.1\n",
        "\n",
        "1.   Create two lists, `A` and `B`: `A` contains 3 arbitrary numbers and `B` contains 3 arbitrary strings.\n",
        "2.   Concatenate two lists into a bigger list and name that list `C`. \n",
        "3.   Print the first element in `C`.\n",
        "4.   Print the second last element in `C` via negative indexing.\n",
        "5.   Remove the second element of `A` from `C`.\n",
        "6.   Print `C` again."
      ]
    },
    {
      "metadata": {
        "id": "-kmPdZCA0uRl",
        "colab": {
          "base_uri": "https://localhost:8080/",
          "height": 0
        },
        "outputId": "6b25fabd-c334-4f05-bcff-bbe5e82a8cd3"
      },
      "cell_type": "code",
      "source": [
        "#  ----------- YOUR CODE -----------\n",
        "A = [2, 3, 5]\n",
        "B = [\"Ganga\", \"Acha\", \"Amma\"]\n",
        "\n",
        "C = A + B\n",
        "\n",
        "print(C)\n",
        "\n",
        "print(C[0])\n",
        "print(C[-2])\n",
        "\n",
        "C.remove(A[1])\n",
        "print(C)"
      ],
      "execution_count": 1,
      "outputs": [
        {
          "output_type": "stream",
          "name": "stdout",
          "text": [
            "[2, 3, 5, 'Ganga', 'Acha', 'Amma']\n",
            "2\n",
            "Acha\n",
            "[2, 5, 'Ganga', 'Acha', 'Amma']\n"
          ]
        }
      ]
    },
    {
      "metadata": {
        "id": "kBSX7VY10uvp"
      },
      "cell_type": "markdown",
      "source": [
        "## Exercise 1.2\n",
        "In this exercise, you will use a low-pass IIR filter to remove noise from a sine-wave signal.\n",
        "\n",
        "You should organize your plots in a 3x1 subplot format.\n",
        "\n",
        "1. Generate a discrete-time signal, `x`, by sampling a 2Hz continuous time sine wave signal with peak amplitude 1 from time 0s to 10s and at a sampling frequency of 500 Hz. Display the signal, `x`, from time 4s to 6s in the first row of a 3x1 subplot with the title \"original signal\".\n",
        "\n",
        "2. Add Gaussian white random noise with 0 mean and standard deviation  0.1 to `x` and call it `x_n` . Display `x_n` from 4s to 6s on the second row of the subplot with the title \"input signal\".\n",
        "\n",
        "3. Design a low-pass butterworth IIR filter of order 5 with a cut-off frequency of 4Hz, designed to filter out the noise.  Hint: Use the [signal.butter](https://docs.scipy.org/doc/scipy-1.1.0/reference/generated/scipy.signal.butter.html#scipy.signal.butter) function and note that the frequencies are relative to the Nyquist frequency. Apply the IIR filter to `x_n`, and name the output `y`. Hint: Use [signal.filtfilt](https://docs.scipy.org/doc/scipy-1.1.0/reference/generated/scipy.signal.filtfilt.html#scipy.signal.filtfilt) function. Plot `y` from 4s to 6s on the third row of the subplot with the title \"filtered signal\".\n"
      ]
    },
    {
      "metadata": {
        "id": "tzpg6gZ_004O",
        "colab": {
          "base_uri": "https://localhost:8080/",
          "height": 327
        },
        "outputId": "b4553592-809c-47a2-9f68-21e280135c39"
      },
      "cell_type": "code",
      "source": [
        "import numpy as np                     # import the numpy packages and use a shorter alising name\n",
        "import matplotlib.pyplot as plt        # again import the matplotlib's pyplot packages\n",
        "from scipy import signal               # import a minor package signal from scipy\n",
        "plt.figure(figsize=(10, 15))           # fix the plot size\n",
        "\n",
        "#  ----------- YOUR CODE -----------\n",
        "fig, ax = plt.subplots(3)\n",
        "fig.tight_layout()\n",
        "\n",
        "# Qn. 1\n",
        "sf = 500\n",
        "t = np.arange(0, 10, step=1/sf)\n",
        "\n",
        "f=2\n",
        "x = np.sin(2*np.pi*f*t)\n",
        "\n",
        "ax[0].plot(t[4*500:6*500], x[4*500:6*500])\n",
        "ax[0].title.set_text('Original Signal')\n",
        "\n",
        "# Qn. 2\n",
        "gauss_noise = np.random.normal(0, 0.1, t.shape)\n",
        "x_n = x + gauss_noise\n",
        "\n",
        "ax[1].plot(t[4*500:6*500], x_n[4*500:6*500])\n",
        "ax[1].title.set_text('Input Signal')\n",
        "\n",
        "\n",
        "# Qn. 3\n",
        "b, a = signal.butter(5, 4/500, 'low')\n",
        "y = signal.filtfilt(b, a, x_n)\n",
        "\n",
        "ax[2].plot(t[4*500:6*500], y[4*500:6*500])\n",
        "ax[2].title.set_text('Filtered Signal')\n",
        "\n",
        "\n",
        "plt.show()"
      ],
      "execution_count": 2,
      "outputs": [
        {
          "output_type": "display_data",
          "data": {
            "text/plain": [
              "<Figure size 720x1080 with 0 Axes>"
            ]
          },
          "metadata": {}
        },
        {
          "output_type": "display_data",
          "data": {
            "text/plain": [
              "<Figure size 432x288 with 3 Axes>"
            ],
            "image/png": "[encoded data removed]"
          },
          "metadata": {
            "needs_background": "light"
          }
        }
      ]
    },
    {
      "metadata": {
        "id": "KU9ewdGe2uf7"
      },
      "cell_type": "markdown",
      "source": [
        "# Section 2"
      ]
    },
    {
      "metadata": {
        "id": "NDTwJQ3K2xAE"
      },
      "cell_type": "markdown",
      "source": [
        "## Exercise 2.1\n",
        "\n",
        "*   Plot the third image in the test data set\n",
        "*   Find the correspoding label for the this image and make it the title of the figure\n"
      ]
    },
    {
      "metadata": {
        "id": "mkq2IPCa2wKT",
        "colab": {
          "base_uri": "https://localhost:8080/",
          "height": 352
        },
        "outputId": "adce4b97-2d53-4abd-94f9-a425f5b3e5e2"
      },
      "cell_type": "code",
      "source": [
        "import keras\n",
        "from keras.datasets import mnist\n",
        "(train_images, train_labels), (test_images, test_labels) = mnist.load_data()\n",
        "\n",
        "train_images = train_images.reshape((60000, 28, 28, 1))\n",
        "test_images = test_images.reshape((10000, 28, 28, 1))\n",
        "\n",
        "#  ----------- YOUR CODE -----------\n",
        "plt.imshow(test_images[2].reshape((28, 28)), \"gray\")\n",
        "plt.title(\"Image of {}\".format(test_labels[2]))"
      ],
      "execution_count": 3,
      "outputs": [
        {
          "output_type": "stream",
          "name": "stdout",
          "text": [
            "Downloading data from https://storage.googleapis.com/tensorflow/tf-keras-datasets/mnist.npz\n",
            "11493376/11490434 [==============================] - 0s 0us/step\n",
            "11501568/11490434 [==============================] - 0s 0us/step\n"
          ]
        },
        {
          "output_type": "execute_result",
          "data": {
            "text/plain": [
              "Text(0.5, 1.0, 'Image of 1')"
            ]
          },
          "metadata": {},
          "execution_count": 3
        },
        {
          "output_type": "display_data",
          "data": {
            "text/plain": [
              "<Figure size 432x288 with 1 Axes>"
            ],
            "image/png": "[encoded data removed]"
          },
          "metadata": {
            "needs_background": "light"
          }
        }
      ]
    },
    {
      "metadata": {
        "id": "QFwNGjZZo7CP"
      },
      "cell_type": "markdown",
      "source": [
        "## Exercise 2.2\n",
        "It is usually helpful to have an accuracy plot as well as a loss value plot to get an intuitive sense of how effectively the model is being trained. \n",
        "\n",
        "* Add code to this example for plotting two graphs with the following requirements:\n",
        "  - Use a 1x2 subplot with the left subplot showing the loss function and right subplot showing the accuracy.\n",
        "  - For each graph, plot the value with respect to epochs. Clearly label the x-axis, y-axis and the title.\n",
        "\n",
        "(Hint: The value of of loss and accuracy are stored in the `hist` variable. \n",
        "Try to print out `hist.history` and `his.history.keys()`.)"
      ]
    },
    {
      "metadata": {
        "id": "5X9GsmEzo_R1",
        "colab": {
          "base_uri": "https://localhost:8080/",
          "height": 0
        },
        "outputId": "54c700f3-6ade-43e4-b1dd-421220c17233"
      },
      "cell_type": "code",
      "source": [
        "import keras\n",
        "from keras.datasets import mnist\n",
        "from keras import models\n",
        "from keras import layers\n",
        "# from keras.utils import to_categorical\n",
        "from tensorflow.keras.utils import to_categorical\n",
        "\n",
        "(train_images, train_labels), (test_images, test_labels) = mnist.load_data()\n",
        "\n",
        "train_images = train_images.reshape((60000, 28, 28, 1))\n",
        "test_images = test_images.reshape((10000, 28, 28, 1))\n",
        "\n",
        "network = models.Sequential()\n",
        "network.add(layers.Flatten(input_shape=(28, 28, 1)))\n",
        "network.add(layers.Dense(512, activation='relu'))\n",
        "network.add(layers.Dense(10, activation='softmax'))\n",
        "\n",
        "network.summary()\n",
        "\n",
        "network.compile(optimizer='rmsprop', loss='categorical_crossentropy', metrics=['accuracy'])\n",
        "\n",
        "train_images_nor = train_images.astype('float32') / 255\n",
        "test_images_nor = test_images.astype('float32') / 255\n",
        "\n",
        "train_labels_cat = to_categorical(train_labels)\n",
        "test_labels_cat = to_categorical(test_labels)\n",
        "\n",
        "hist = network.fit(train_images_nor, train_labels_cat, epochs=5, batch_size=128)"
      ],
      "execution_count": 4,
      "outputs": [
        {
          "output_type": "stream",
          "name": "stdout",
          "text": [
            "Model: \"sequential\"\n",
            "_________________________________________________________________\n",
            " Layer (type)                Output Shape              Param #   \n",
            "=================================================================\n",
            " flatten (Flatten)           (None, 784)               0         \n",
            "                                                                 \n",
            " dense (Dense)               (None, 512)               401920    \n",
            "                                                                 \n",
            " dense_1 (Dense)             (None, 10)                5130      \n",
            "                                                                 \n",
            "=================================================================\n",
            "Total params: 407,050\n",
            "Trainable params: 407,050\n",
            "Non-trainable params: 0\n",
            "_________________________________________________________________\n",
            "Epoch 1/5\n",
            "469/469 [==============================] - 10s 17ms/step - loss: 0.2535 - accuracy: 0.9265\n",
            "Epoch 2/5\n",
            "469/469 [==============================] - 6s 14ms/step - loss: 0.1032 - accuracy: 0.9694\n",
            "Epoch 3/5\n",
            "469/469 [==============================] - 5s 11ms/step - loss: 0.0670 - accuracy: 0.9800\n",
            "Epoch 4/5\n",
            "469/469 [==============================] - 5s 10ms/step - loss: 0.0494 - accuracy: 0.9850\n",
            "Epoch 5/5\n",
            "469/469 [==============================] - 5s 10ms/step - loss: 0.0367 - accuracy: 0.9891\n"
          ]
        }
      ]
    },
    {
      "cell_type": "code",
      "source": [
        "hist.history, hist.history.keys(), hist.params"
      ],
      "metadata": {
        "colab": {
          "base_uri": "https://localhost:8080/",
          "height": 0
        },
        "id": "Qq2J_0ooxcGn",
        "outputId": "5422eb88-56f1-4dcc-d98b-1b60b6f0f814"
      },
      "execution_count": 5,
      "outputs": [
        {
          "output_type": "execute_result",
          "data": {
            "text/plain": [
              "({'accuracy': [0.9265000224113464,\n",
              "   0.9693666696548462,\n",
              "   0.9799500107765198,\n",
              "   0.9850000143051147,\n",
              "   0.9890999794006348],\n",
              "  'loss': [0.25352272391319275,\n",
              "   0.10322625190019608,\n",
              "   0.0670025646686554,\n",
              "   0.049393631517887115,\n",
              "   0.03672918304800987]},\n",
              " dict_keys(['loss', 'accuracy']),\n",
              " {'epochs': 5, 'steps': 469, 'verbose': 1})"
            ]
          },
          "metadata": {},
          "execution_count": 5
        }
      ]
    },
    {
      "cell_type": "code",
      "source": [
        "np.arange(hist.params[\"epochs\"]), hist.history[\"loss\"]"
      ],
      "metadata": {
        "colab": {
          "base_uri": "https://localhost:8080/",
          "height": 0
        },
        "id": "vOPujoBLy4hd",
        "outputId": "6be3e5fa-b349-44a7-c521-5cd378126cc7"
      },
      "execution_count": 6,
      "outputs": [
        {
          "output_type": "execute_result",
          "data": {
            "text/plain": [
              "(array([0, 1, 2, 3, 4]),\n",
              " [0.25352272391319275,\n",
              "  0.10322625190019608,\n",
              "  0.0670025646686554,\n",
              "  0.049393631517887115,\n",
              "  0.03672918304800987])"
            ]
          },
          "metadata": {},
          "execution_count": 6
        }
      ]
    },
    {
      "metadata": {
        "id": "w58heEcSeAui",
        "colab": {
          "base_uri": "https://localhost:8080/",
          "height": 341
        },
        "outputId": "dca5a5c9-7a3f-4d68-98f2-1665b7e399de"
      },
      "cell_type": "code",
      "source": [
        "import matplotlib.pyplot as plt\n",
        "import numpy as np\n",
        "\n",
        "plt.figure(figsize=(10, 4))\n",
        "fig, ax = plt.subplots(nrows=1, ncols=2)\n",
        "fig.tight_layout()\n",
        "\n",
        "ax[0].plot(np.arange(1, hist.params[\"epochs\"]+1), hist.history[\"loss\"])\n",
        "ax[0].set_title(\"Loss on Train Data\")\n",
        "ax[0].set_ylabel(\"Categorical Crossentropy Loss\")\n",
        "ax[0].set_xlabel(\"Epochs\")\n",
        "\n",
        "ax[1].plot(np.arange(1, hist.params[\"epochs\"]+1), hist.history[\"accuracy\"])\n",
        "ax[1].set_title(\"Accuracy on Train Data\")\n",
        "ax[1].set_ylabel(\"Accuracy\")\n",
        "ax[1].set_xlabel(\"Epochs\")\n",
        "\n",
        "#  ----------- YOUR CODE -----------\n",
        "\n",
        "plt.show()"
      ],
      "execution_count": 7,
      "outputs": [
        {
          "output_type": "display_data",
          "data": {
            "text/plain": [
              "<Figure size 720x288 with 0 Axes>"
            ]
          },
          "metadata": {}
        },
        {
          "output_type": "display_data",
          "data": {
            "text/plain": [
              "<Figure size 432x288 with 2 Axes>"
            ],
            "image/png": "[encoded data removed]"
          },
          "metadata": {
            "needs_background": "light"
          }
        }
      ]
    },
    {
      "cell_type": "code",
      "source": [
        "test_loss, test_acc = network.evaluate(test_images_nor, test_labels_cat)\n",
        "print('test_accuracy:', test_acc)"
      ],
      "metadata": {
        "colab": {
          "base_uri": "https://localhost:8080/",
          "height": 0
        },
        "id": "VzJtHmdL00OG",
        "outputId": "df873ecb-2716-4f90-a409-10ba0f33f4a9"
      },
      "execution_count": 8,
      "outputs": [
        {
          "output_type": "stream",
          "name": "stdout",
          "text": [
            "313/313 [==============================] - 1s 3ms/step - loss: 0.0710 - accuracy: 0.9789\n",
            "test_accuracy: 0.9789000153541565\n"
          ]
        }
      ]
    },
    {
      "metadata": {
        "id": "GGKlyKbW2OZA"
      },
      "cell_type": "markdown",
      "source": [
        "## Exercise 2.3\n",
        "Use the dense network from Section 2 as the basis to construct of a deeper network with\n",
        "\n",
        "*  5 dense hidden layers with dimensions [512, 256, 128, 64, 32] each of which uses a ReLU non-linearity\n",
        "\n",
        "**Question:** Will the accuracy on the testing data always get better if we keep making the neural network larger?\n",
        "\n"
      ]
    },
    {
      "metadata": {
        "id": "ToF8yn8ahe-O"
      },
      "cell_type": "markdown",
      "source": [
        "NO. As we make the network larger, we are also making it more complex. So our network is more prone to overfitting on the dataset and hence, even if accuracy on training data increases, accuracy on test data will reduce after a point. We can also understand this based on bias-variance trade-off. As we decrease the bias in the model, variance will be higher. Hence larger models are more prone to overfitting."
      ]
    },
    {
      "metadata": {
        "id": "pgjEFVPo23eG",
        "colab": {
          "base_uri": "https://localhost:8080/",
          "height": 0
        },
        "outputId": "828f2b9f-2eba-4985-ef91-5c96970b5418"
      },
      "cell_type": "code",
      "source": [
        "import keras\n",
        "from keras import models\n",
        "from keras import layers\n",
        "\n",
        "#  ----------- YOUR CODE -----------\n",
        "network = models.Sequential()\n",
        "network.add(layers.Flatten(input_shape=(28, 28, 1)))\n",
        "network.add(layers.Dense(512, activation='relu'))\n",
        "network.add(layers.Dense(256, activation='relu'))\n",
        "network.add(layers.Dense(128, activation='relu'))\n",
        "network.add(layers.Dense(64, activation='relu'))\n",
        "network.add(layers.Dense(32, activation='relu'))\n",
        "network.add(layers.Dense(10, activation='softmax'))\n",
        "\n",
        "network.summary()"
      ],
      "execution_count": 9,
      "outputs": [
        {
          "output_type": "stream",
          "name": "stdout",
          "text": [
            "Model: \"sequential_1\"\n",
            "_________________________________________________________________\n",
            " Layer (type)                Output Shape              Param #   \n",
            "=================================================================\n",
            " flatten_1 (Flatten)         (None, 784)               0         \n",
            "                                                                 \n",
            " dense_2 (Dense)             (None, 512)               401920    \n",
            "                                                                 \n",
            " dense_3 (Dense)             (None, 256)               131328    \n",
            "                                                                 \n",
            " dense_4 (Dense)             (None, 128)               32896     \n",
            "                                                                 \n",
            " dense_5 (Dense)             (None, 64)                8256      \n",
            "                                                                 \n",
            " dense_6 (Dense)             (None, 32)                2080      \n",
            "                                                                 \n",
            " dense_7 (Dense)             (None, 10)                330       \n",
            "                                                                 \n",
            "=================================================================\n",
            "Total params: 576,810\n",
            "Trainable params: 576,810\n",
            "Non-trainable params: 0\n",
            "_________________________________________________________________\n"
          ]
        }
      ]
    },
    {
      "metadata": {
        "id": "Jx2LETbcX6IB",
        "colab": {
          "base_uri": "https://localhost:8080/",
          "height": 0
        },
        "outputId": "35361a63-c8d6-43f4-c4cf-0e45bb9ddad1"
      },
      "cell_type": "code",
      "source": [
        "import keras\n",
        "from keras.datasets import mnist\n",
        "# from keras.utils import to_categorical\n",
        "from tensorflow.keras.utils import to_categorical\n",
        "\n",
        "(train_images, train_labels), (test_images, test_labels) = mnist.load_data()\n",
        "\n",
        "train_images = train_images.reshape((60000, 28, 28, 1))\n",
        "test_images = test_images.reshape((10000, 28, 28, 1))\n",
        "\n",
        "\n",
        "network.compile(optimizer='rmsprop', loss='categorical_crossentropy', metrics=['accuracy'])\n",
        "\n",
        "train_images_nor = train_images.astype('float32') / 255\n",
        "test_images_nor = test_images.astype('float32') / 255\n",
        "\n",
        "train_labels_cat = to_categorical(train_labels)\n",
        "test_labels_cat = to_categorical(test_labels)\n",
        "\n",
        "hist = network.fit(train_images_nor, train_labels_cat, epochs=5, batch_size=128)\n",
        "\n",
        "test_loss, test_acc = network.evaluate(test_images_nor, test_labels_cat)\n",
        "print('test_accuracy:', test_acc)"
      ],
      "execution_count": 10,
      "outputs": [
        {
          "output_type": "stream",
          "name": "stdout",
          "text": [
            "Epoch 1/5\n",
            "469/469 [==============================] - 8s 15ms/step - loss: 0.2919 - accuracy: 0.9106\n",
            "Epoch 2/5\n",
            "469/469 [==============================] - 7s 15ms/step - loss: 0.1011 - accuracy: 0.9707\n",
            "Epoch 3/5\n",
            "469/469 [==============================] - 7s 15ms/step - loss: 0.0702 - accuracy: 0.9796\n",
            "Epoch 4/5\n",
            "469/469 [==============================] - 7s 15ms/step - loss: 0.0509 - accuracy: 0.9850\n",
            "Epoch 5/5\n",
            "469/469 [==============================] - 7s 14ms/step - loss: 0.0413 - accuracy: 0.9883\n",
            "313/313 [==============================] - 1s 3ms/step - loss: 0.1027 - accuracy: 0.9759\n",
            "test_accuracy: 0.9758999943733215\n"
          ]
        }
      ]
    },
    {
      "cell_type": "code",
      "source": [
        "import matplotlib.pyplot as plt\n",
        "import numpy as np\n",
        "\n",
        "#  ----------- YOUR CODE -----------\n",
        "\n",
        "plt.figure(figsize=(10, 4))\n",
        "fig, ax = plt.subplots(nrows=1, ncols=2)\n",
        "fig.tight_layout()\n",
        "\n",
        "ax[0].plot(np.arange(1, hist.params[\"epochs\"]+1), hist.history[\"loss\"])\n",
        "ax[0].set_title(\"Loss on Train Data\")\n",
        "ax[0].set_ylabel(\"Categorical Crossentropy Loss\")\n",
        "ax[0].set_xlabel(\"Epochs\")\n",
        "\n",
        "ax[1].plot(np.arange(1, hist.params[\"epochs\"]+1), hist.history[\"accuracy\"])\n",
        "ax[1].set_title(\"Accuracy on Train Data\")\n",
        "ax[1].set_ylabel(\"Accuracy\")\n",
        "ax[1].set_xlabel(\"Epochs\")\n",
        "\n",
        "plt.show()"
      ],
      "metadata": {
        "colab": {
          "base_uri": "https://localhost:8080/",
          "height": 341
        },
        "id": "XLMd2r4S0fp_",
        "outputId": "0475f684-5f36-428e-9b0f-f9619b07d5c6"
      },
      "execution_count": 11,
      "outputs": [
        {
          "output_type": "display_data",
          "data": {
            "text/plain": [
              "<Figure size 720x288 with 0 Axes>"
            ]
          },
          "metadata": {}
        },
        {
          "output_type": "display_data",
          "data": {
            "text/plain": [
              "<Figure size 432x288 with 2 Axes>"
            ],
            "image/png": "[encoded data removed]"
          },
          "metadata": {
            "needs_background": "light"
          }
        }
      ]
    },
    {
      "metadata": {
        "id": "AsXd0j1Njhba"
      },
      "cell_type": "markdown",
      "source": [
        "# Section 3"
      ]
    },
    {
      "metadata": {
        "id": "fi-l9cBf2_nB"
      },
      "cell_type": "markdown",
      "source": [
        "## Exercise 3.1\n",
        "In this exercise, you will access the relationship between the feature extraction layer and classification layer. The example above uses two sets of convolutional layers and pooling layers in the feature extraction layer and two dense layers in the classification layers. The overall performance is around 98% for both training and test dataset. In this exercise, try to create a similar CNN network with the following requirements:\n",
        "\n",
        "*   Achieve the overall accuracy higher than 99% for training and testing dataset.\n",
        "*  Keep the total number of parameters used in the network lower than 100,000."
      ]
    },
    {
      "metadata": {
        "id": "tOr0NOv5-hJo",
        "colab": {
          "base_uri": "https://localhost:8080/",
          "height": 0
        },
        "outputId": "69fee455-f894-465d-91a9-dd22f378e44b"
      },
      "cell_type": "code",
      "source": [
        "import keras\n",
        "from keras import models\n",
        "from keras import layers\n",
        "\n",
        "network = models.Sequential()\n",
        "\n",
        "#  ----------- YOUR CODE -----------\n",
        "# First Layer\n",
        "network.add(layers.Conv2D(16, (3, 3), activation='relu', input_shape=(28, 28, 1)))\n",
        "network.add(layers.MaxPooling2D((2, 2)))\n",
        "# Second Layer\n",
        "network.add(layers.Conv2D(32, (3, 3), activation='relu'))\n",
        "network.add(layers.MaxPooling2D((2, 2)))\n",
        "\n",
        "# ---- Classification section\n",
        "# Rearrange the data\n",
        "network.add(layers.Flatten())\n",
        "# Third Layer\n",
        "network.add(layers.Dense(110, activation='relu'))\n",
        "# Fourth Layer\n",
        "network.add(layers.Dense(10, activation='softmax'))\n",
        "\n",
        "network.summary()"
      ],
      "execution_count": 12,
      "outputs": [
        {
          "output_type": "stream",
          "name": "stdout",
          "text": [
            "Model: \"sequential_2\"\n",
            "_________________________________________________________________\n",
            " Layer (type)                Output Shape              Param #   \n",
            "=================================================================\n",
            " conv2d (Conv2D)             (None, 26, 26, 16)        160       \n",
            "                                                                 \n",
            " max_pooling2d (MaxPooling2D  (None, 13, 13, 16)       0         \n",
            " )                                                               \n",
            "                                                                 \n",
            " conv2d_1 (Conv2D)           (None, 11, 11, 32)        4640      \n",
            "                                                                 \n",
            " max_pooling2d_1 (MaxPooling  (None, 5, 5, 32)         0         \n",
            " 2D)                                                             \n",
            "                                                                 \n",
            " flatten_2 (Flatten)         (None, 800)               0         \n",
            "                                                                 \n",
            " dense_8 (Dense)             (None, 110)               88110     \n",
            "                                                                 \n",
            " dense_9 (Dense)             (None, 10)                1110      \n",
            "                                                                 \n",
            "=================================================================\n",
            "Total params: 94,020\n",
            "Trainable params: 94,020\n",
            "Non-trainable params: 0\n",
            "_________________________________________________________________\n"
          ]
        }
      ]
    },
    {
      "metadata": {
        "id": "FYFNcxkb639j",
        "colab": {
          "base_uri": "https://localhost:8080/",
          "height": 0
        },
        "outputId": "ded0a154-45a9-4024-b11c-316385dadc74"
      },
      "cell_type": "code",
      "source": [
        "from keras.datasets import mnist\n",
        "from tensorflow.keras.utils import to_categorical\n",
        "\n",
        "(train_images, train_labels), (test_images, test_labels) = mnist.load_data()\n",
        "\n",
        "train_images = train_images.reshape((60000, 28, 28, 1))\n",
        "train_images_nor = train_images.astype('float32') / 255\n",
        "test_images = test_images.reshape((10000, 28, 28, 1))\n",
        "test_images_nor = test_images.astype('float32') / 255\n",
        "\n",
        "train_labels_cat = to_categorical(train_labels)\n",
        "test_labels_cat = to_categorical(test_labels)\n",
        "\n",
        "network.compile(optimizer='rmsprop', loss='categorical_crossentropy', metrics=['accuracy'])\n",
        "hist = network.fit(train_images_nor, train_labels_cat, epochs=15, batch_size=128)\n",
        "\n",
        "test_loss, test_acc = network.evaluate(test_images_nor, test_labels_cat)\n",
        "print('test_accuracy:', test_acc)"
      ],
      "execution_count": 13,
      "outputs": [
        {
          "output_type": "stream",
          "name": "stdout",
          "text": [
            "Epoch 1/15\n",
            "469/469 [==============================] - 27s 56ms/step - loss: 0.2444 - accuracy: 0.9250\n",
            "Epoch 2/15\n",
            "469/469 [==============================] - 27s 57ms/step - loss: 0.0671 - accuracy: 0.9791\n",
            "Epoch 3/15\n",
            "469/469 [==============================] - 26s 55ms/step - loss: 0.0469 - accuracy: 0.9853\n",
            "Epoch 4/15\n",
            "469/469 [==============================] - 26s 55ms/step - loss: 0.0360 - accuracy: 0.9886\n",
            "Epoch 5/15\n",
            "469/469 [==============================] - 26s 56ms/step - loss: 0.0283 - accuracy: 0.9911\n",
            "Epoch 6/15\n",
            "469/469 [==============================] - 26s 56ms/step - loss: 0.0232 - accuracy: 0.9924\n",
            "Epoch 7/15\n",
            "469/469 [==============================] - 26s 55ms/step - loss: 0.0189 - accuracy: 0.9941\n",
            "Epoch 8/15\n",
            "469/469 [==============================] - 26s 54ms/step - loss: 0.0155 - accuracy: 0.9949\n",
            "Epoch 9/15\n",
            "469/469 [==============================] - 26s 55ms/step - loss: 0.0130 - accuracy: 0.9959\n",
            "Epoch 10/15\n",
            "469/469 [==============================] - 26s 54ms/step - loss: 0.0113 - accuracy: 0.9966\n",
            "Epoch 11/15\n",
            "469/469 [==============================] - 26s 55ms/step - loss: 0.0095 - accuracy: 0.9972\n",
            "Epoch 12/15\n",
            "469/469 [==============================] - 26s 55ms/step - loss: 0.0077 - accuracy: 0.9975\n",
            "Epoch 13/15\n",
            "469/469 [==============================] - 28s 60ms/step - loss: 0.0071 - accuracy: 0.9980\n",
            "Epoch 14/15\n",
            "469/469 [==============================] - 26s 55ms/step - loss: 0.0059 - accuracy: 0.9983\n",
            "Epoch 15/15\n",
            "469/469 [==============================] - 26s 55ms/step - loss: 0.0048 - accuracy: 0.9983\n",
            "313/313 [==============================] - 3s 8ms/step - loss: 0.0346 - accuracy: 0.9919\n",
            "test_accuracy: 0.9919000267982483\n"
          ]
        }
      ]
    },
    {
      "cell_type": "code",
      "source": [
        "import matplotlib.pyplot as plt\n",
        "import numpy as np\n",
        "\n",
        "#  ----------- YOUR CODE -----------\n",
        "\n",
        "plt.figure(figsize=(10, 4))\n",
        "fig, ax = plt.subplots(nrows=1, ncols=2)\n",
        "fig.tight_layout()\n",
        "\n",
        "ax[0].plot(np.arange(1, hist.params[\"epochs\"]+1), hist.history[\"loss\"])\n",
        "ax[0].set_title(\"Loss on Train Data\")\n",
        "ax[0].set_ylabel(\"Categorical Crossentropy Loss\")\n",
        "ax[0].set_xlabel(\"Epochs\")\n",
        "\n",
        "ax[1].plot(np.arange(1, hist.params[\"epochs\"]+1), hist.history[\"accuracy\"])\n",
        "ax[1].set_title(\"Accuracy on Train Data\")\n",
        "ax[1].set_ylabel(\"Accuracy\")\n",
        "ax[1].set_xlabel(\"Epochs\")\n",
        "\n",
        "plt.show()"
      ],
      "metadata": {
        "colab": {
          "base_uri": "https://localhost:8080/",
          "height": 341
        },
        "id": "NXkdf_otSTpr",
        "outputId": "8402fe76-2034-4331-b6af-7c7534bf366a"
      },
      "execution_count": 14,
      "outputs": [
        {
          "output_type": "display_data",
          "data": {
            "text/plain": [
              "<Figure size 720x288 with 0 Axes>"
            ]
          },
          "metadata": {}
        },
        {
          "output_type": "display_data",
          "data": {
            "text/plain": [
              "<Figure size 432x288 with 2 Axes>"
            ],
            "image/png": "[encoded data removed]"
          },
          "metadata": {
            "needs_background": "light"
          }
        }
      ]
    },
    {
      "metadata": {
        "id": "c5F_kMFw3dMo"
      },
      "cell_type": "markdown",
      "source": [
        "# Section 4"
      ]
    },
    {
      "metadata": {
        "id": "xT1mPktl4MsW"
      },
      "cell_type": "markdown",
      "source": [
        "## Exercise 4.1\n",
        "In this exercise you will need to create the entire neural network that does image denoising tasks. Try to mimic the code provided above and follow the structure as provided in the instructions below."
      ]
    },
    {
      "metadata": {
        "id": "MGCURYAN4Zu-"
      },
      "cell_type": "markdown",
      "source": [
        "**Task 1**: Create the datasets\n",
        "1.   Import necessary packages\n",
        "2.   Load the MNIST data from Keras, and save the training dataset images as `train_images`, save the test dataset images as `test_images`\n",
        "3.   Add additive white gaussian noise to the train images as well as the test images and save the noisy images to `train_images_noisy` and `test_images_noisy` respectivly. The noise should have mean value 0, and standard deviation 0.4. (Hint: Use [np.random.normal](https://docs.scipy.org/doc/numpy-1.13.0/reference/generated/numpy.random.normal.html))\n",
        "4.   Show the first image in the training dataset as well as the test dataset (plot the images in 1 x 2 subplot form)"
      ]
    },
    {
      "metadata": {
        "id": "fNujLacs4YtE",
        "colab": {
          "base_uri": "https://localhost:8080/",
          "height": 251
        },
        "outputId": "19b963ed-cb10-482a-eaa2-3bc8d4b866c0"
      },
      "cell_type": "code",
      "source": [
        "#  ----------- YOUR CODE -----------\n",
        "\n",
        "# Read Images\n",
        "from keras.datasets import mnist\n",
        "from tensorflow.keras.utils import to_categorical\n",
        "\n",
        "(train_images, train_labels), (test_images, test_labels) = mnist.load_data()\n",
        "\n",
        "train_images = train_images.reshape((60000, 28, 28, 1))\n",
        "train_images_nor = train_images.astype('float32') / 255\n",
        "test_images = test_images.reshape((10000, 28, 28, 1))\n",
        "test_images_nor = test_images.astype('float32') / 255\n",
        "\n",
        "train_labels_cat = to_categorical(train_labels)\n",
        "test_labels_cat = to_categorical(test_labels)\n",
        "\n",
        "# Get Gaussian Noise\n",
        "mu, sigma = 0, 0.4 # mean and standard deviation\n",
        "train_images_noisy = train_images_nor + np.random.normal(mu, sigma, train_images_nor.shape[0]*train_images_nor.shape[1]*train_images_nor.shape[2]).reshape(train_images_nor.shape)\n",
        "test_images_noisy = test_images_nor + np.random.normal(mu, sigma, test_images_nor.shape[0]*test_images_nor.shape[1]*test_images_nor.shape[2]).reshape(test_images_nor.shape)\n",
        "\n",
        "# Display the image\n",
        "plt.figure(figsize=(10, 4))\n",
        "fig, ax = plt.subplots(nrows=1, ncols=2)\n",
        "fig.tight_layout()\n",
        "\n",
        "ax[0].imshow(train_images_noisy[0].reshape((28, 28)), \"gray\")\n",
        "ax[0].set_title(\"Train Image of {}\".format(train_labels[0]))\n",
        "\n",
        "ax[1].imshow(test_images_noisy[0].reshape((28, 28)), \"gray\")\n",
        "ax[1].set_title(\"Test Image of {}\".format(test_labels[0]))\n",
        "\n",
        "plt.show()"
      ],
      "execution_count": 15,
      "outputs": [
        {
          "output_type": "display_data",
          "data": {
            "text/plain": [
              "<Figure size 720x288 with 0 Axes>"
            ]
          },
          "metadata": {}
        },
        {
          "output_type": "display_data",
          "data": {
            "text/plain": [
              "<Figure size 432x288 with 2 Axes>"
            ],
            "image/png": "[encoded data removed]"
          },
          "metadata": {
            "needs_background": "light"
          }
        }
      ]
    },
    {
      "cell_type": "code",
      "source": [
        "# Display the original images\n",
        "plt.figure(figsize=(10, 4))\n",
        "fig, ax = plt.subplots(nrows=1, ncols=2)\n",
        "fig.tight_layout()\n",
        "\n",
        "ax[0].imshow(train_images[0].reshape((28, 28)), \"gray\")\n",
        "ax[0].set_title(\"Train Image of {}\".format(train_labels[0]))\n",
        "\n",
        "ax[1].imshow(test_images[0].reshape((28, 28)), \"gray\")\n",
        "ax[1].set_title(\"Test Image of {}\".format(test_labels[0]))\n",
        "\n",
        "plt.show()"
      ],
      "metadata": {
        "colab": {
          "base_uri": "https://localhost:8080/",
          "height": 251
        },
        "id": "zDXTeWf8_x6y",
        "outputId": "e0501bfd-bc38-4ec7-ffcd-f6eddb930143"
      },
      "execution_count": 21,
      "outputs": [
        {
          "output_type": "display_data",
          "data": {
            "text/plain": [
              "<Figure size 720x288 with 0 Axes>"
            ]
          },
          "metadata": {}
        },
        {
          "output_type": "display_data",
          "data": {
            "text/plain": [
              "<Figure size 432x288 with 2 Axes>"
            ],
            "image/png": "[encoded data removed]"
          },
          "metadata": {
            "needs_background": "light"
          }
        }
      ]
    },
    {
      "metadata": {
        "id": "kHPTiHi54gzu"
      },
      "cell_type": "markdown",
      "source": [
        "**Task 2**: Create the neural network model\n",
        "1.   Create a sequential model called `encoder` with the following layers sequentially:\n",
        "  * convolutional layer with `32` output channels, `3x3` kernel size, and the padding convention `'same'` with `'relu'` activition function.\n",
        "  * max pooling layer with `2x2` kernel size\n",
        "  * convolutional layer with `16` output channels, `3x3` kernel size, and the padding convention `'same'` with `'relu'` activition function.\n",
        "  * max pooling layer with `2x2` kernel size\n",
        "  * convolutional layer with `8` output channels, `3x3` kernel size, and the padding convention `'same'` with `'relu'` activition function and name the layer as `'convOutput'`.\n",
        "  * flatten layer\n",
        "  * dense layer with output dimension as `encoding_dim`  with `'relu'` activition function.\n",
        "2.   Create a sequential model called `decoder` with the following layers sequentially:\n",
        "  * dense layer with the input dimension as `encoding_dim` and the output dimension as the product of the output dimenstions of the `'convOutput'` layer.\n",
        "  * reshape layer that convert the tensor into the same shape as `'convOutput'`\n",
        "  * convolutional layer with `8` output channels, `3x3` kernel size, and the padding convention `'same'` with `'relu'` activition function.\n",
        "  * upsampling layer with `2x2` kernel size\n",
        "  * convolutional layer with `16` output channels, `3x3` kernel size, and the padding convention `'same'` with `'relu'` activition function.\n",
        "  * upsampling layer with `2x2` kernel size\n",
        "  * convolutional layer with `32` output channels, `3x3` kernel size, and the padding convention `'same'` with `'relu'` activition function\n",
        "  * convolutional layer with `1` output channels, `3x3` kernel size, and the padding convention `'same'` with `'sigmoid'` activition function\n",
        "3. Create a sequential model called `autoencoder` with the following layers sequentially:\n",
        "  * `encoder` model\n",
        "  * `decoder` model\n",
        " "
      ]
    },
    {
      "metadata": {
        "id": "2n8jXqGUB4YP"
      },
      "cell_type": "code",
      "source": [
        "#  ----------- YOUR CODE -----------\n",
        "encoding_dim = 32\n",
        "\n",
        "# Build Encoder\n",
        "encoder = models.Sequential()\n",
        "encoder.add(layers.Conv2D(32, (3, 3), activation='relu', padding='same', input_shape=train_images.shape[1:]))\n",
        "encoder.add(layers.MaxPooling2D((2, 2),                  padding='same'))\n",
        "encoder.add(layers.Conv2D(16, (3, 3),  activation='relu', padding='same'))\n",
        "encoder.add(layers.MaxPooling2D((2, 2),                  padding='same'))\n",
        "encoder.add(layers.Conv2D(8, (3, 3),  activation='relu', padding='same', name='convOutput'))\n",
        "\n",
        "encoder.add(layers.Flatten())\n",
        "encoder.add(layers.Dense(encoding_dim, activation='relu'))\n",
        "\n",
        "\n",
        "# shape considerations\n",
        "convShape = encoder.get_layer('convOutput').output_shape[1:]\n",
        "denseShape = convShape[0]*convShape[1]*convShape[2]\n",
        "\n",
        "\n",
        "# Build Decoder\n",
        "decoder = models.Sequential()\n",
        "decoder.add(layers.Dense(denseShape, input_shape=(encoding_dim,)))\n",
        "decoder.add(layers.Reshape(convShape))\n",
        "\n",
        "decoder.add(layers.Conv2D(8, (3, 3),  activation='relu',    padding='same'))\n",
        "decoder.add(layers.UpSampling2D((2, 2)))\n",
        "decoder.add(layers.Conv2D(16, (3, 3),  activation='relu',    padding='same'))\n",
        "decoder.add(layers.UpSampling2D((2, 2)))\n",
        "decoder.add(layers.Conv2D(32, (3, 3), activation='relu',    padding='same'))\n",
        "decoder.add(layers.Conv2D(1, (3, 3),  activation='sigmoid', padding='same'))\n",
        "\n",
        "# Build Autoencoder\n",
        "autoencoder = models.Sequential()\n",
        "autoencoder.add(encoder)\n",
        "autoencoder.add(decoder)"
      ],
      "execution_count": 16,
      "outputs": []
    },
    {
      "metadata": {
        "id": "ORFVQ7rsCjsS"
      },
      "cell_type": "markdown",
      "source": [
        "Then we build the autoencoder by putting the encoder and decoder together, and we print out the resulting model."
      ]
    },
    {
      "metadata": {
        "id": "Ph599EaTCg4b",
        "outputId": "bc7dc5d8-1d33-4584-8be8-4aab29cdc594",
        "colab": {
          "base_uri": "https://localhost:8080/",
          "height": 0
        }
      },
      "cell_type": "code",
      "source": [
        "encoder.summary()\n",
        "decoder.summary()\n",
        "autoencoder.summary()"
      ],
      "execution_count": 17,
      "outputs": [
        {
          "output_type": "stream",
          "name": "stdout",
          "text": [
            "Model: \"sequential_3\"\n",
            "_________________________________________________________________\n",
            " Layer (type)                Output Shape              Param #   \n",
            "=================================================================\n",
            " conv2d_2 (Conv2D)           (None, 28, 28, 32)        320       \n",
            "                                                                 \n",
            " max_pooling2d_2 (MaxPooling  (None, 14, 14, 32)       0         \n",
            " 2D)                                                             \n",
            "                                                                 \n",
            " conv2d_3 (Conv2D)           (None, 14, 14, 16)        4624      \n",
            "                                                                 \n",
            " max_pooling2d_3 (MaxPooling  (None, 7, 7, 16)         0         \n",
            " 2D)                                                             \n",
            "                                                                 \n",
            " convOutput (Conv2D)         (None, 7, 7, 8)           1160      \n",
            "                                                                 \n",
            " flatten_3 (Flatten)         (None, 392)               0         \n",
            "                                                                 \n",
            " dense_10 (Dense)            (None, 32)                12576     \n",
            "                                                                 \n",
            "=================================================================\n",
            "Total params: 18,680\n",
            "Trainable params: 18,680\n",
            "Non-trainable params: 0\n",
            "_________________________________________________________________\n",
            "Model: \"sequential_4\"\n",
            "_________________________________________________________________\n",
            " Layer (type)                Output Shape              Param #   \n",
            "=================================================================\n",
            " dense_11 (Dense)            (None, 392)               12936     \n",
            "                                                                 \n",
            " reshape (Reshape)           (None, 7, 7, 8)           0         \n",
            "                                                                 \n",
            " conv2d_4 (Conv2D)           (None, 7, 7, 8)           584       \n",
            "                                                                 \n",
            " up_sampling2d (UpSampling2D  (None, 14, 14, 8)        0         \n",
            " )                                                               \n",
            "                                                                 \n",
            " conv2d_5 (Conv2D)           (None, 14, 14, 16)        1168      \n",
            "                                                                 \n",
            " up_sampling2d_1 (UpSampling  (None, 28, 28, 16)       0         \n",
            " 2D)                                                             \n",
            "                                                                 \n",
            " conv2d_6 (Conv2D)           (None, 28, 28, 32)        4640      \n",
            "                                                                 \n",
            " conv2d_7 (Conv2D)           (None, 28, 28, 1)         289       \n",
            "                                                                 \n",
            "=================================================================\n",
            "Total params: 19,617\n",
            "Trainable params: 19,617\n",
            "Non-trainable params: 0\n",
            "_________________________________________________________________\n",
            "Model: \"sequential_5\"\n",
            "_________________________________________________________________\n",
            " Layer (type)                Output Shape              Param #   \n",
            "=================================================================\n",
            " sequential_3 (Sequential)   (None, 32)                18680     \n",
            "                                                                 \n",
            " sequential_4 (Sequential)   (None, 28, 28, 1)         19617     \n",
            "                                                                 \n",
            "=================================================================\n",
            "Total params: 38,297\n",
            "Trainable params: 38,297\n",
            "Non-trainable params: 0\n",
            "_________________________________________________________________\n"
          ]
        }
      ]
    },
    {
      "metadata": {
        "id": "GQfdKLjjkxMM"
      },
      "cell_type": "markdown",
      "source": [
        "**Task 3**: Create the neural network model  \n",
        "\n",
        "Fit the model to the training data using the following hyper-parameters:\n",
        "  * `adam` optimizer\n",
        "  * `binary_crossentropy` loss function\n",
        "  * `20` training epochs\n",
        "  * batch size as `256`\n",
        "  * set `shuffle` as `True`\n",
        "  \n",
        "Compile the model and fit ..."
      ]
    },
    {
      "metadata": {
        "id": "c3cR_RjRkvXI",
        "colab": {
          "base_uri": "https://localhost:8080/",
          "height": 0
        },
        "outputId": "e26fb85c-56ac-46d1-8879-a4547a3385ed"
      },
      "cell_type": "code",
      "source": [
        "autoencoder.compile(optimizer='adam', loss='binary_crossentropy')\n",
        "history = autoencoder.fit(train_images_noisy, train_images_nor, \n",
        "                epochs=20, \n",
        "                batch_size=256,\n",
        "                shuffle=True)"
      ],
      "execution_count": 18,
      "outputs": [
        {
          "output_type": "stream",
          "name": "stdout",
          "text": [
            "Epoch 1/20\n",
            "235/235 [==============================] - 161s 681ms/step - loss: 0.2705\n",
            "Epoch 2/20\n",
            "235/235 [==============================] - 157s 668ms/step - loss: 0.1522\n",
            "Epoch 3/20\n",
            "235/235 [==============================] - 166s 707ms/step - loss: 0.1308\n",
            "Epoch 4/20\n",
            "235/235 [==============================] - 157s 667ms/step - loss: 0.1221\n",
            "Epoch 5/20\n",
            "235/235 [==============================] - 157s 670ms/step - loss: 0.1171\n",
            "Epoch 6/20\n",
            "235/235 [==============================] - 157s 669ms/step - loss: 0.1141\n",
            "Epoch 7/20\n",
            "235/235 [==============================] - 156s 665ms/step - loss: 0.1118\n",
            "Epoch 8/20\n",
            "235/235 [==============================] - 155s 659ms/step - loss: 0.1101\n",
            "Epoch 9/20\n",
            "235/235 [==============================] - 155s 658ms/step - loss: 0.1083\n",
            "Epoch 10/20\n",
            "235/235 [==============================] - 154s 655ms/step - loss: 0.1069\n",
            "Epoch 11/20\n",
            "235/235 [==============================] - 154s 656ms/step - loss: 0.1059\n",
            "Epoch 12/20\n",
            "235/235 [==============================] - 154s 656ms/step - loss: 0.1050\n",
            "Epoch 13/20\n",
            "235/235 [==============================] - 154s 654ms/step - loss: 0.1042\n",
            "Epoch 14/20\n",
            "235/235 [==============================] - 154s 656ms/step - loss: 0.1035\n",
            "Epoch 15/20\n",
            "235/235 [==============================] - 154s 655ms/step - loss: 0.1031\n",
            "Epoch 16/20\n",
            "235/235 [==============================] - 154s 653ms/step - loss: 0.1024\n",
            "Epoch 17/20\n",
            "235/235 [==============================] - 156s 665ms/step - loss: 0.1020\n",
            "Epoch 18/20\n",
            "235/235 [==============================] - 159s 677ms/step - loss: 0.1016\n",
            "Epoch 19/20\n",
            "235/235 [==============================] - 154s 654ms/step - loss: 0.1011\n",
            "Epoch 20/20\n",
            "235/235 [==============================] - 153s 650ms/step - loss: 0.1008\n"
          ]
        }
      ]
    },
    {
      "metadata": {
        "id": "NDEMXTFdkwL3"
      },
      "cell_type": "markdown",
      "source": [
        "**Task 4**: Create the neural network model (No need to write code, just run the following commands)"
      ]
    },
    {
      "metadata": {
        "id": "upL0lofw9jgo"
      },
      "cell_type": "code",
      "source": [
        "def showImages(input_imgs, encoded_imgs, output_imgs, size=1.5, groundTruth=None):\n",
        "\n",
        "  numCols = 3 if groundTruth is None else 4\n",
        "  \n",
        "  num_images = input_imgs.shape[0]\n",
        "      \n",
        "  encoded_imgs = encoded_imgs.reshape((num_images, 1, -1))\n",
        "    \n",
        "\n",
        "  plt.figure(figsize=((numCols+encoded_imgs.shape[2]/input_imgs.shape[2])*size, num_images*size))\n",
        "\n",
        "  pltIdx = 0\n",
        "  col = 0\n",
        "  for i in range(0, num_images):\n",
        "\n",
        "    col += 1\n",
        "    # plot input image\n",
        "    pltIdx += 1\n",
        "    ax = plt.subplot(num_images, numCols, pltIdx)\n",
        "    plt.imshow(input_imgs[i].reshape(28, 28))\n",
        "    plt.gray()\n",
        "    ax.get_xaxis().set_visible(False)\n",
        "    ax.get_yaxis().set_visible(False)\n",
        "    if col == 1:\n",
        "      plt.title('Input Image')\n",
        "\n",
        "    # plot encoding\n",
        "    pltIdx += 1\n",
        "    ax = plt.subplot(num_images, numCols, pltIdx)\n",
        "    plt.imshow(encoded_imgs[i])\n",
        "    plt.gray()\n",
        "    ax.get_xaxis().set_visible(False)\n",
        "    ax.get_yaxis().set_visible(False)\n",
        "    if col == 1:\n",
        "      plt.title('Encoded Image')\n",
        "\n",
        "    # plot reconstructed image\n",
        "    pltIdx += 1\n",
        "    ax = plt.subplot(num_images, numCols, pltIdx)\n",
        "    plt.imshow(output_imgs[i].reshape(28, 28))\n",
        "    plt.gray()\n",
        "    ax.get_xaxis().set_visible(False)\n",
        "    ax.get_yaxis().set_visible(False)\n",
        "    if col == 1:\n",
        "      plt.title('Reconstructed Image')\n",
        "  \n",
        "    if numCols == 4:\n",
        "      # plot ground truth image\n",
        "      pltIdx += 1\n",
        "      ax = plt.subplot(num_images, numCols, pltIdx)\n",
        "      plt.imshow(groundTruth[i].reshape(28, 28))\n",
        "      plt.gray()\n",
        "      ax.get_xaxis().set_visible(False)\n",
        "      ax.get_yaxis().set_visible(False)\n",
        "      \n",
        "      if col == 1:\n",
        "        plt.title('Ground Truth')\n",
        "\n",
        "  plt.show()"
      ],
      "execution_count": 19,
      "outputs": []
    },
    {
      "metadata": {
        "id": "WqL4ZnZ59w3e",
        "colab": {
          "base_uri": "https://localhost:8080/",
          "height": 1000
        },
        "outputId": "b664a4f7-8d2a-4c90-c06a-f10e579a391d"
      },
      "cell_type": "code",
      "source": [
        "num_images = 10\n",
        "\n",
        "input_labels = test_labels[0:num_images]\n",
        "I = np.argsort(input_labels)\n",
        "\n",
        "input_imgs = test_images_noisy[I]\n",
        "\n",
        "encoded_imgs = encoder.predict(test_images_noisy[I])\n",
        "output_imgs = decoder.predict(encoded_imgs)\n",
        "\n",
        "showImages(input_imgs, encoded_imgs, output_imgs, size=2, groundTruth=test_images_nor[I])"
      ],
      "execution_count": 20,
      "outputs": [
        {
          "output_type": "display_data",
          "data": {
            "text/plain": [
              "<Figure size 740.571x1440 with 40 Axes>"
            ],
            "image/png": "[encoded data removed]"
          },
          "metadata": {
            "needs_background": "light"
          }
        }
      ]
    }
  ]
}